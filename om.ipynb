{
 "cells": [
  {
   "cell_type": "code",
   "execution_count": 1,
   "metadata": {},
   "outputs": [],
   "source": [
    "import pandas as pd\n",
    "import numpy as np\n",
    "import matplotlib.pyplot as plt\n",
    "import seaborn as sns\n",
    "from sklearn.model_selection import train_test_split\n",
    "from sklearn.ensemble import RandomForestClassifier, GradientBoostingClassifier\n",
    "from sklearn.preprocessing import LabelEncoder, StandardScaler\n",
    "from sklearn.metrics import classification_report, accuracy_score\n",
    "from sklearn.pipeline import Pipeline\n",
    "from sklearn.compose import ColumnTransformer\n",
    "import plotly.express as px\n",
    "import plotly.graph_objects as go\n",
    "from dash import Dash, dcc, html, Input, Output\n",
    "import joblib"
   ]
  },
  {
   "cell_type": "code",
   "execution_count": 6,
   "metadata": {},
   "outputs": [
    {
     "name": "stdout",
     "output_type": "stream",
     "text": [
      "Collecting openpyxl\n",
      "  Downloading openpyxl-3.1.5-py2.py3-none-any.whl.metadata (2.5 kB)\n",
      "Collecting et-xmlfile (from openpyxl)\n",
      "  Downloading et_xmlfile-2.0.0-py3-none-any.whl.metadata (2.7 kB)\n",
      "Downloading openpyxl-3.1.5-py2.py3-none-any.whl (250 kB)\n",
      "Downloading et_xmlfile-2.0.0-py3-none-any.whl (18 kB)\n",
      "Installing collected packages: et-xmlfile, openpyxl\n",
      "Successfully installed et-xmlfile-2.0.0 openpyxl-3.1.5\n",
      "Note: you may need to restart the kernel to use updated packages.\n"
     ]
    }
   ],
   "source": [
    "%pip install  openpyxl"
   ]
  },
  {
   "cell_type": "code",
   "execution_count": 4,
   "metadata": {},
   "outputs": [
    {
     "name": "stdout",
     "output_type": "stream",
     "text": [
      "Columns in social_media_data: ['User_ID', 'Age', 'Gender', 'Platform', 'Daily_Usage_Time (minutes)', 'Posts_Per_Day', 'Likes_Received_Per_Day', 'Comments_Received_Per_Day', 'Messages_Sent_Per_Day', 'Dominant_Emotion']\n",
      "Columns in health_data: ['Person ID', 'Gender', 'Age', 'Occupation', 'Sleep Duration', 'Quality of Sleep', 'Physical Activity Level', 'Stress Level', 'BMI Category', 'Blood Pressure', 'Heart Rate', 'Daily Steps', 'Sleep Disorder']\n"
     ]
    }
   ],
   "source": [
    "# Load datasets\n",
    "try:\n",
    "    health_data = pd.read_excel('Sleep Dataset.xlsm')\n",
    "    social_media_data = pd.read_excel('Social Media Usage - Train.xlsm')\n",
    "except FileNotFoundError:\n",
    "    print(\"Error: One or both Excel files not found. Please check file names and paths.\")\n",
    "    raise\n",
    "\n",
    "# Print available columns for debugging\n",
    "print(\"Columns in social_media_data:\", social_media_data.columns.tolist())\n",
    "print(\"Columns in health_data:\", health_data.columns.tolist())"
   ]
  },
  {
   "cell_type": "code",
   "execution_count": 7,
   "metadata": {},
   "outputs": [
    {
     "name": "stdout",
     "output_type": "stream",
     "text": [
      "Using column 'Daily_Usage_Time (minutes)' for usage categorization\n",
      "Columns in merged_data: ['Person ID', 'Gender_x', 'Age_x', 'Occupation', 'Sleep Duration', 'Quality of Sleep', 'Physical Activity Level', 'Stress Level', 'BMI Category', 'Blood Pressure', 'Heart Rate', 'Daily Steps', 'Sleep Disorder', 'Health_Score', 'User_ID', 'Age_y', 'Gender_y', 'Platform', 'Daily_Usage_Time (minutes)', 'Posts_Per_Day', 'Likes_Received_Per_Day', 'Comments_Received_Per_Day', 'Messages_Sent_Per_Day', 'Dominant_Emotion', 'Usage_Category']\n"
     ]
    }
   ],
   "source": [
    "# Data Preprocessing\n",
    "health_data['Sleep Disorder'] = health_data['Sleep Disorder'].fillna('None')\n",
    "health_data['BMI Category'] = health_data['BMI Category'].str.replace('Normal Weight', 'Normal')\n",
    "social_media_data = social_media_data.dropna()\n",
    "social_media_data['Dominant_Emotion'] = social_media_data['Dominant_Emotion'].str.strip()\n",
    "\n",
    "# Feature Engineering\n",
    "health_data['Health_Score'] = (health_data['Quality of Sleep'] * 0.3 + \n",
    "                             (10 - health_data['Stress Level']) * 0.2 +\n",
    "                             health_data['Physical Activity Level'] * 0.2 +\n",
    "                             health_data['Daily Steps'] / 10000 * 0.3)\n",
    "\n",
    "def categorize_usage(minutes):\n",
    "    if minutes < 60: return 'Low'\n",
    "    elif minutes < 120: return 'Moderate'\n",
    "    else: return 'High'\n",
    "\n",
    "# Find appropriate usage time column\n",
    "possible_time_columns = ['Daily Minutes', 'Daily_Usage', 'Minutes_Per_Day', 'Time_Spent', \n",
    "                        'Usage_Minutes', 'Daily_Usage_Time (minutes)']\n",
    "usage_column = None\n",
    "for col in possible_time_columns:\n",
    "    if col in social_media_data.columns:\n",
    "        usage_column = col\n",
    "        break\n",
    "\n",
    "if usage_column is None:\n",
    "    raise ValueError(\"No time usage column found. Available columns: \" + str(social_media_data.columns.tolist()))\n",
    "else:\n",
    "    print(f\"Using column '{usage_column}' for usage categorization\")\n",
    "    social_media_data['Usage_Category'] = social_media_data[usage_column].apply(categorize_usage)\n",
    "\n",
    "# Merge datasets\n",
    "merged_data = pd.merge(health_data, social_media_data, \n",
    "                      left_on='Person ID', right_on='User_ID', how='inner')\n",
    "\n",
    "# Debug: Print columns in merged_data\n",
    "print(\"Columns in merged_data:\", merged_data.columns.tolist())"
   ]
  },
  {
   "cell_type": "code",
   "execution_count": 8,
   "metadata": {},
   "outputs": [
    {
     "name": "stdout",
     "output_type": "stream",
     "text": [
      "Platform Prediction Accuracy: 0.16\n",
      "              precision    recall  f1-score   support\n",
      "\n",
      "    Facebook       0.00      0.00      0.00        17\n",
      "   Instagram       0.35      0.29      0.32        24\n",
      "    LinkedIn       0.00      0.00      0.00         8\n",
      "    Snapchat       0.25      0.25      0.25         4\n",
      "    Telegram       0.00      0.00      0.00         4\n",
      "     Twitter       0.10      0.25      0.15        12\n",
      "    Whatsapp       0.14      0.17      0.15         6\n",
      "\n",
      "    accuracy                           0.16        75\n",
      "   macro avg       0.12      0.14      0.12        75\n",
      "weighted avg       0.15      0.16      0.15        75\n",
      "\n"
     ]
    },
    {
     "data": {
      "text/plain": [
       "['platform_encoder.joblib']"
      ]
     },
     "execution_count": 8,
     "metadata": {},
     "output_type": "execute_result"
    }
   ],
   "source": [
    "# Platform Prediction Model\n",
    "# Adjust column names based on merged_data columns\n",
    "# Since 'Age' and 'Gender' appear in both datasets, they might be renamed to 'Age_x', 'Age_y', etc.\n",
    "# We'll use the health_data versions (assuming they're suffixed with '_x' or unsuffixed if one is dropped)\n",
    "try:\n",
    "    X_platform = merged_data[['Age', 'Gender', 'Occupation', 'Health_Score']].copy()\n",
    "except KeyError:\n",
    "    # Fallback: Try common suffixed versions after merge\n",
    "    age_col = 'Age' if 'Age' in merged_data.columns else 'Age_x'\n",
    "    gender_col = 'Gender' if 'Gender' in merged_data.columns else 'Gender_x'\n",
    "    X_platform = merged_data[[age_col, gender_col, 'Occupation', 'Health_Score']].copy()\n",
    "\n",
    "y_platform = merged_data['Platform']\n",
    "\n",
    "le_gender = LabelEncoder()\n",
    "le_occupation = LabelEncoder()\n",
    "le_platform = LabelEncoder()\n",
    "\n",
    "X_platform[gender_col] = le_gender.fit_transform(X_platform[gender_col])\n",
    "X_platform['Occupation'] = le_occupation.fit_transform(X_platform['Occupation'])\n",
    "y_platform = le_platform.fit_transform(y_platform)\n",
    "\n",
    "X_train, X_test, y_train, y_test = train_test_split(X_platform, y_platform, test_size=0.2, random_state=42)\n",
    "\n",
    "numeric_features = [age_col, 'Health_Score']\n",
    "categorical_features = [gender_col, 'Occupation']\n",
    "\n",
    "preprocessor = ColumnTransformer(\n",
    "    transformers=[\n",
    "        ('num', StandardScaler(), numeric_features),\n",
    "        ('cat', 'passthrough', categorical_features)\n",
    "    ])\n",
    "\n",
    "platform_model = Pipeline([\n",
    "    ('preprocessor', preprocessor),\n",
    "    ('classifier', RandomForestClassifier(n_estimators=100, random_state=42))\n",
    "])\n",
    "\n",
    "platform_model.fit(X_train, y_train)\n",
    "\n",
    "y_pred = platform_model.predict(X_test)\n",
    "print(\"Platform Prediction Accuracy:\", accuracy_score(y_test, y_pred))\n",
    "print(classification_report(y_test, y_pred, target_names=le_platform.classes_))\n",
    "\n",
    "joblib.dump(platform_model, 'platform_predictor.joblib')\n",
    "joblib.dump(le_platform, 'platform_encoder.joblib')"
   ]
  },
  {
   "cell_type": "code",
   "execution_count": 9,
   "metadata": {},
   "outputs": [
    {
     "name": "stdout",
     "output_type": "stream",
     "text": [
      "\n",
      "Health Impact Prediction Accuracy: 0.8133333333333334\n"
     ]
    },
    {
     "data": {
      "text/plain": [
       "['usage_encoder.joblib']"
      ]
     },
     "execution_count": 9,
     "metadata": {},
     "output_type": "execute_result"
    }
   ],
   "source": [
    "# Health Impact Prediction Model\n",
    "# Use the same adjusted column names\n",
    "try:\n",
    "    X_health = merged_data[['Age', 'Gender', 'Platform', usage_column, 'Usage_Category']].copy()\n",
    "except KeyError:\n",
    "    age_col = 'Age' if 'Age' in merged_data.columns else 'Age_x'\n",
    "    gender_col = 'Gender' if 'Gender' in merged_data.columns else 'Gender_x'\n",
    "    X_health = merged_data[[age_col, gender_col, 'Platform', usage_column, 'Usage_Category']].copy()\n",
    "\n",
    "y_health = (merged_data['Health_Score'] > merged_data['Health_Score'].median()).astype(int)\n",
    "\n",
    "X_health[gender_col] = le_gender.transform(X_health[gender_col])\n",
    "X_health['Platform'] = le_platform.transform(X_health['Platform'])\n",
    "le_usage = LabelEncoder()\n",
    "X_health['Usage_Category'] = le_usage.fit_transform(X_health['Usage_Category'])\n",
    "\n",
    "X_train_h, X_test_h, y_train_h, y_test_h = train_test_split(X_health, y_health, test_size=0.2, random_state=42)\n",
    "\n",
    "numeric_features_h = [age_col, usage_column]\n",
    "categorical_features_h = [gender_col, 'Platform', 'Usage_Category']\n",
    "\n",
    "preprocessor_h = ColumnTransformer(\n",
    "    transformers=[\n",
    "        ('num', StandardScaler(), numeric_features_h),\n",
    "        ('cat', 'passthrough', categorical_features_h)\n",
    "    ])\n",
    "\n",
    "health_model = Pipeline([\n",
    "    ('preprocessor', preprocessor_h),\n",
    "    ('classifier', GradientBoostingClassifier(random_state=42))\n",
    "])\n",
    "\n",
    "health_model.fit(X_train_h, y_train_h)\n",
    "\n",
    "y_pred_h = health_model.predict(X_test_h)\n",
    "print(\"\\nHealth Impact Prediction Accuracy:\", accuracy_score(y_test_h, y_pred_h))\n",
    "\n",
    "joblib.dump(health_model, 'health_predictor.joblib')\n",
    "joblib.dump(le_usage, 'usage_encoder.joblib')"
   ]
  },
  {
   "cell_type": "code",
   "execution_count": null,
   "metadata": {},
   "outputs": [],
   "source": []
  },
  {
   "cell_type": "code",
   "execution_count": null,
   "metadata": {},
   "outputs": [],
   "source": []
  }
 ],
 "metadata": {
  "kernelspec": {
   "display_name": "base",
   "language": "python",
   "name": "python3"
  },
  "language_info": {
   "codemirror_mode": {
    "name": "ipython",
    "version": 3
   },
   "file_extension": ".py",
   "mimetype": "text/x-python",
   "name": "python",
   "nbconvert_exporter": "python",
   "pygments_lexer": "ipython3",
   "version": "3.12.4"
  }
 },
 "nbformat": 4,
 "nbformat_minor": 2
}
